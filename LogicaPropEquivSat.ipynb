{
  "cells": [
    {
      "cell_type": "markdown",
      "metadata": {
        "id": "view-in-github",
        "colab_type": "text"
      },
      "source": [
        "<a href=\"https://colab.research.google.com/github/fersoler/LogiCoLab/blob/main/LogicaPropEquivSat.ipynb\" target=\"_parent\"><img src=\"https://colab.research.google.com/assets/colab-badge.svg\" alt=\"Open In Colab\"/></a>"
      ]
    },
    {
      "cell_type": "markdown",
      "metadata": {
        "id": "j6_2lRgDFlJc"
      },
      "source": [
        "# Equivalencias, formas normales y satisfacibilidad en lógica proposicional\n",
        "\n",
        "Este cuaderno forma parte del [proyecto *LogiCoLab*](https://github.com/fersoler/LogiCoLab), publicado con licencia MIT.\n",
        "\n",
        "👇 Para cargar las funciones que se utilizan a lo largo del cuaderno, pulsar sobre ▶ en el siguiente bloque y esperar a que aparezca ✅ a la izquierda. Si no ves el signo ▶, pasa el cursor por encima de \"Mostrar código\"."
      ]
    },
    {
      "cell_type": "code",
      "execution_count": 1,
      "metadata": {
        "id": "jOmnQIeiHvct",
        "cellView": "form"
      },
      "outputs": [],
      "source": [
        "#@title\n",
        "from IPython.display import display, HTML, Math, Latex\n",
        "import graphviz\n",
        "import pydot\n",
        "import networkx as nx\n",
        "import nltk\n",
        "from nltk.grammar import FeatureGrammar, FeatDict\n",
        "from nltk import ChartParser, Tree\n",
        "import sys\n",
        "from subprocess import *\n",
        "import re\n",
        "import sympy\n",
        "from sympy import *\n",
        "from sympy.logic import simplify_logic\n",
        "from sympy.logic.boolalg import Implies, Equivalent, eliminate_implications\n",
        "import numpy as np\n",
        "import itertools\n",
        "import pandas as pd\n",
        "init_printing()\n",
        "\n",
        "\n",
        "from IPython.core.interactiveshell import InteractiveShell\n",
        "InteractiveShell.ast_node_interactivity = 'all'\n",
        "\n",
        "# Or = Symbol('Or')\n",
        "# And = Symbol('And')\n",
        "# Not = Symbol('Not')\n",
        "# Implies = Symbol('Implies')\n",
        "# Equivalent = Symbol('Equivalent')\n",
        "p, q, r, s, t = symbols('p q r s t')\n",
        "\n",
        "# Lists with all sonnectives and auxiliary symbols in the alphabet\n",
        "connectives = ['<->', '->', '&', '|', '¬']\n",
        "auxSymbs = ['(', ')']\n",
        "atomsPQRST = ['p','q','r','s','t']\n",
        "\n",
        "# Converts a true/false value to 1/0\n",
        "def TF_2_10(val):\n",
        "  if val:\n",
        "    return 1\n",
        "  else:\n",
        "    return 0\n",
        "\n",
        "# Function to get all atoms in a expression\n",
        "def getAtoms(expr):\n",
        "  out = expr\n",
        "  for i in connectives+auxSymbs:\n",
        "    out = out.replace(i,' ')\n",
        "  out = set(out.split())\n",
        "  return out\n",
        "\n",
        "# Function to get all subformulas of a given sympy expression\n",
        "def subforms(expr):\n",
        "  s = list([expr])\n",
        "  for arg in np.flip(expr.args):\n",
        "    s = list(dict.fromkeys(subforms(arg)+s))\n",
        "  return s\n",
        "\n",
        "grammarText = \"\"\"\n",
        "% start F\n",
        "F[p=atm, s=?s] -> '(' F[s=?s] ')'\n",
        "\n",
        "F[p=not, s=[c=Not, l=?l]] -> '¬' F[p=not, s=?l]\n",
        "F[p=not, s=[c=Not, l=?l]] -> '¬' F[p=atm, s=?l]\n",
        "\n",
        "F[p=and, s=[c=And, l=?l, r=?r]] -> LAnd[s=?l] '&' LAnd[s=?r] | LAnd[s=?l] '&' F[p=and, s=?r]\n",
        "LAnd[s=?s] -> F[p=not, s=?s] | F[p=atm, s=?s]\n",
        "\n",
        "F[p=or, s=[c=Or, l=?l, r=?r]] -> LOr[s=?l] '|' LOr[s=?r] | LOr[s=?l] '|' F[p=or, s=?r]\n",
        "LOr[s=?s] -> F[p=and, s=?s] | F[p=not, s=?s] | F[p=atm, s=?s]\n",
        "\n",
        "F[p=imp, s=[c=Implies, l=?l, r=?r]] -> LImp[s=?l] '->' LImp[s=?r] | LImp[s=?l] '->' F[p=imp, s=?r]\n",
        "LImp[s=?s] -> F[p=or, s=?s] | F[p=and, s=?s] | F[p=not, s=?s] | F[p=atm, s=?s]\n",
        "\n",
        "F[p=eqv, s=[c=Equivalent, l=?l, r=?r]] -> LEqv[s=?l] '<->' LEqv[s=?r] | LEqv[s=?l] '<->' F[p=eqv, s=?r]\n",
        "LEqv[s=?s] -> F[p=imp, s=?s] | F[p=or, s=?s] | F[p=and, s=?s] | F[p=not, s=?s] | F[p=atm, s=?s]\n",
        "\n",
        "F[p=atm, s=[c=Symbol, l=p]] -> 'p'\n",
        "F[p=atm, s=[c=Symbol, l=q]] -> 'q'\n",
        "F[p=atm, s=[c=Symbol, l=r]] -> 'r'\n",
        "F[p=atm, s=[c=Symbol, l=s]] -> 's'\n",
        "F[p=atm, s=[c=Symbol, l=t]] -> 't'\n",
        "\"\"\"\n",
        "# Original grammar and parser\n",
        "grammar = FeatureGrammar.fromstring(grammarText)\n",
        "parser = nltk.parse.FeatureChartParser(grammar)\n",
        "# Test:\n",
        "# pfml = parser.parse('¬ p & q'.split())\n",
        "# fml = next(pfml)\n",
        "# struct = fml.label()\n",
        "# print(struct['s'])\n",
        "# [ c = 'And'                    ]\n",
        "# [                              ]\n",
        "# [     [ c = 'Not'            ] ]\n",
        "# [ l = [                      ] ]\n",
        "# [     [ l = [ c = 'Symbol' ] ] ]\n",
        "# [     [     [ l = 'p'      ] ] ]\n",
        "# [                              ]\n",
        "# [ r = [ c = 'Symbol' ]         ]\n",
        "# [     [ l = 'q'      ]         ]\n",
        "\n",
        "# The previous grammar only parses formulas with p, q, r, s and t. To extend the\n",
        "# set of accepted variables, this function adds the rules for all propositions\n",
        "# in 'listSymbs'. Test: print(grammarWithSymbols([\"gato\", \"perro\"]))\n",
        "def grammarWithSymbols(listSymbs):\n",
        "  newLines = \"\"\n",
        "  for s in listSymbs:\n",
        "    newLines = newLines + \"\\nF[p=atm, s=[c=Symbol, l=\"+s+\"]] -> '\"+s+\"'\"\n",
        "  return grammarText+newLines\n",
        "\n",
        "# Function to parse a formula that may contain propositons different to p,...,t. \n",
        "# It returns the feature structure corresponding to 's'\n",
        "def parseFml(fml):\n",
        "  atoms = getAtoms(fml)\n",
        "  toParse = fml\n",
        "  # To avoid confusion of -> and <->\n",
        "  toParse = toParse.replace('<->', ' = ')\n",
        "  for c in connectives+auxSymbs:\n",
        "    toParse = toParse.replace(c,' '+c+' ')\n",
        "  # Back to <->\n",
        "  toParse = toParse.replace('=','<->')\n",
        "  toParse = toParse.split()\n",
        "  if(atoms.issubset(set(atomsPQRST))):\n",
        "    pfml = parser.parse(toParse)    \n",
        "  else:\n",
        "    extGramm = grammarWithSymbols(atoms.difference(set(atomsPQRST)))\n",
        "    lfgExt = FeatureGrammar.fromstring(extGramm)\n",
        "    expPars = nltk.parse.FeatureChartParser(lfgExt)\n",
        "    pfml = expPars.parse(toParse)\n",
        "  fml = next(pfml)\n",
        "  struct = fml.label()\n",
        "  return struct['s']\n",
        "# Test: \n",
        "# print(parseFml('gato -> felino'))\n",
        "# [ c = 'Implies'        ]\n",
        "# [                      ]\n",
        "# [ l = [ c = 'Symbol' ] ]\n",
        "# [     [ l = 'gato'   ] ]\n",
        "# [                      ]\n",
        "# [ r = [ c = 'Symbol' ] ]\n",
        "# [     [ l = 'felino' ] ]\n",
        "\n",
        "def nltk_to_sympy(featStruct):\n",
        "  sym_ops = {\n",
        "      'Implies': sympy.Implies,\n",
        "      'Or': sympy.Or,\n",
        "      'And': sympy.And,\n",
        "      'Not': sympy.Not,\n",
        "      'Equivalent': sympy.Equivalent\n",
        "      }\n",
        "  if featStruct['c'] == 'Symbol':\n",
        "    return Symbol(featStruct['l'])\n",
        "  if featStruct['c'] == 'Not':\n",
        "    left = nltk_to_sympy(featStruct['l'])\n",
        "    return sympy.Not(left)\n",
        "  # Binary connectives:\n",
        "  left  = nltk_to_sympy(featStruct['l'])\n",
        "  right = nltk_to_sympy(featStruct['r'])\n",
        "  op = featStruct['c']\n",
        "  return sym_ops[op](left, right)\n",
        "# Test:\n",
        "# fs = parseFml('¬(¬p & q <-> r)')\n",
        "# symexp = nltk_to_sympy(fs)\n",
        "# symexp\n",
        "\n",
        "# Function to convert a list of formulas into their\n",
        "# conjunction\n",
        "def ListToAnd(listFmls):\n",
        "  if len(listFmls) == 0:\n",
        "    return True\n",
        "  if len(listFmls) == 1:\n",
        "    return listFmls[0]\n",
        "  else:\n",
        "    return And(listFmls[0], ListToAnd(listFmls[1:]))\n",
        "\n",
        "\n",
        "# Function to build a tree with the evaluation of a formula in a given \n",
        "# interpretation\n",
        "def evalTree(G, fml, val, nodeN, parN = 0):\n",
        "  col = 'black'\n",
        "  if fml.subs(val) == True:\n",
        "    col = 'green'\n",
        "  if fml.subs(val) == False:\n",
        "    col = 'red'\n",
        "  G.add_node(nodeN, label=printTXT(fml), shape='rect', color=col)\n",
        "  if(parN != 0):\n",
        "    G.add_edge(parN, nodeN, dir='back')\n",
        "  fmlArgs = fml.args\n",
        "  for i in range(len(fmlArgs)):\n",
        "    evalTree(G, fmlArgs[i], val, str(nodeN)+str(i), nodeN)\n",
        "\n",
        "\n",
        "def printFml(sympyFml, conn):\n",
        "  c = sympyFml.func\n",
        "  a = sympyFml.args\n",
        "  if c == Symbol:\n",
        "    return str(sympyFml)\n",
        "  if c == Not:\n",
        "    c2 = a[0].func\n",
        "    if (c2 == Symbol) | (c2 == Not):\n",
        "      s = conn[0] + printFml(a[0], conn)\n",
        "    else:\n",
        "      s = conn[0] + \"(\" + printFml(a[0], conn) + \")\"\n",
        "    return s\n",
        "  if c == And:\n",
        "    fl = printFml(a[0], conn)\n",
        "    opl = a[0].func\n",
        "    if (opl == Symbol) | (opl == Not) | (opl == And):\n",
        "      strl = fl\n",
        "    else:\n",
        "      strl = \"(\"+fl+\")\"\n",
        "    for i in range(1,len(a)):\n",
        "      opr = a[i].func\n",
        "      fr = printFml(a[i], conn)\n",
        "      if (opr == Symbol) | (opr == Not) | (opr == And):\n",
        "        strl = strl + conn[1] +fr\n",
        "      else:\n",
        "        strl = strl + conn[1] +\"(\"+fr+\")\"\n",
        "    return strl\n",
        "  if c == Or:\n",
        "    fl = printFml(a[0], conn)\n",
        "    opl = a[0].func\n",
        "    if (opl == Symbol) | (opl == Not) | (opl == Or) | (opl == And):\n",
        "      strl = fl\n",
        "    else:\n",
        "      strl = \"(\"+fl+\")\"\n",
        "    for i in range(1,len(a)):\n",
        "      opr = a[i].func\n",
        "      fr = printFml(a[i], conn)\n",
        "      if (opr == Symbol) | (opr == Not) | (opl == Or):  # | (opr == And)\n",
        "        strl = strl + conn[2] +fr\n",
        "      else:\n",
        "        strl = strl + conn[2] +\"(\"+fr+\")\"\n",
        "    return strl\n",
        "  if c == Implies:\n",
        "    fl = printFml(a[0], conn)\n",
        "    fr = printFml(a[1], conn)\n",
        "    opl = a[0].func\n",
        "    opr = a[1].func\n",
        "    if (opl == Symbol) | (opl == Not) | (opl == And) | (opl == Or):\n",
        "      strl = fl\n",
        "    else:\n",
        "      strl = \"(\"+fl+\")\"\n",
        "    if (opr == Symbol) | (opr == Not) | (opr == And) | (opl == Or):\n",
        "      strr = fr\n",
        "    else:\n",
        "      strr = \"(\"+fr+\")\"\n",
        "    return strl+conn[3]+strr\n",
        "  if c == Equivalent:\n",
        "    fl = printFml(a[0], conn)\n",
        "    fr = printFml(a[1], conn)\n",
        "    opl = a[0].func\n",
        "    opr = a[1].func\n",
        "    if (opl == Symbol) | (opl == Not) | (opl == And) | (opl == Or):\n",
        "      strl = fl\n",
        "    else:\n",
        "      strl = \"(\"+fl+\")\"\n",
        "    if (opr == Symbol) | (opr == Not) | (opr == And) | (opl == Or):\n",
        "      strr = fr\n",
        "    else:\n",
        "      strr = \"(\"+fr+\")\"\n",
        "    return strl+conn[4]+strr\n",
        "\n",
        "def printTXT(sympyFml):\n",
        "  return printFml(sympyFml, ['¬', ' ∧ ', ' ∨ ', ' → ', ' ↔ '])\n",
        "\n",
        "\n",
        "def printLaTeX(sympyFml):\n",
        "  return printFml(sympyFml, ['\\\\lnot ', '\\\\land ', '\\\\lor ', '\\\\to ', '\\\\leftrightarrow '])"
      ]
    },
    {
      "cell_type": "markdown",
      "source": [
        "## Equivalencias y esquemas de equivalencia\n",
        "\n",
        "Recodemos que dos fórmulas $\\alpha$ y $\\beta$ son *equivalentes* ($\\alpha\\equiv\\beta$) cuando en cualquier interpretación $\\sigma$ su valor de verdad es idéntico, es decir, $σ(α) = σ(\\beta)$. \n",
        "\n",
        "✏ **Ejercicio.** Justificar por qué las tres siguientes afirmaciones son equivalentes: \n",
        "- $\\alpha\\equiv\\beta$.\n",
        "- $\\{\\alpha\\}\\models\\beta$ y $\\{\\beta\\}\\models\\alpha$.\n",
        "- $\\models \\alpha ↔ \\beta$.\n",
        "\n",
        "### Esquemas de equivalencia de la lógica proposicional\n",
        "\n",
        "Una expresión como:\n",
        "$$\\alpha\\to\\beta \\equiv \\lnot\\alpha\\lor\\beta$$\n",
        "es un *esquema de equivalencia*, lo que significa que si sustituimos $\\alpha$ y $\\beta$ por cualesquiera fórmulas de $\\mathcal{L}_{LP}$, obtenemos una equivalencia. \n",
        "\n",
        "Existen infinitos esquemas de equivalencia, de los cuales algunos son especialmente relevantes y por ello tienen nombre propio. En la siguiente tabla (basada en [la que ofrece Fernando Sancho](http://www.cs.us.es/~fsancho/?e=242)), usamos $\\top$ para representar cualquier tautología y $\\bot$ cualquier contradicción:\n",
        "\n",
        "\n",
        "<center>\n",
        "<table>\n",
        "<tr><td>\n",
        "\n",
        "| **Nombre** | **Expresión**                                 |\n",
        "|:-----------|:----------------------------------------------|\n",
        "| Conmutativa|  $\\alpha\\lor\\beta$ $\\equiv$ $\\beta\\lor\\alpha$ |\n",
        "|            |$\\alpha\\land\\beta$ $\\equiv$ $\\beta\\land\\alpha$ |\n",
        "| Asociativa|  $\\alpha$ $\\lor$ $(\\beta\\lor\\gamma)$ $\\equiv$ $(\\alpha\\lor\\beta)$ $\\lor$ $\\gamma$ |\n",
        "|            |  $\\alpha$ $\\land$ $(\\beta\\land\\gamma)$ $\\equiv$ $(\\alpha\\land\\beta)$ $\\land$ $\\gamma$ |\n",
        "| Distributiva | $\\alpha$ $\\lor$ $(\\beta\\land\\gamma)$ $\\equiv$ $(\\alpha\\lor\\beta)$ $\\land$ $(\\alpha\\lor\\gamma)$ |\n",
        "| | $\\alpha$ $\\land$ $(\\beta\\lor\\gamma)$ $\\equiv$ $(\\alpha\\land\\beta)$ $\\lor$ $(\\alpha\\land\\gamma)$ |\n",
        "| Doble negación | $\\lnot\\lnot\\alpha$ $\\equiv$ $\\alpha$ |\n",
        "| De Morgan | $\\lnot$$(\\alpha\\lor\\beta)$ $\\equiv$ $\\lnot\\alpha$ $\\land$ $\\lnot\\beta$ |\n",
        "| | $\\lnot$$(\\alpha\\land\\beta)$ $\\equiv$ $\\lnot\\alpha$ $\\lor$ $\\lnot\\beta$ |\n",
        "| Idempotencia | $\\alpha\\lor\\alpha$ $\\equiv$ $\\alpha$ |\n",
        "|  | $\\alpha\\land\\alpha$ $\\equiv$ $\\alpha$ |\n",
        "| Absorción | $\\alpha$ $\\lor$ $(\\alpha\\land\\beta)$ $\\equiv$ $\\alpha$ |\n",
        "| | $\\alpha$ $\\land$ $(\\alpha\\lor\\beta)$ $\\equiv$ $\\alpha$ |\n",
        "| Tautología | $\\alpha\\lor \\top$ $\\equiv$ $\\top$ |\n",
        "| | $\\alpha\\land \\top$ $\\equiv$ $\\alpha$ |\n",
        "| Contradicción | $\\alpha\\lor \\bot$ $\\equiv$ $\\alpha$ |\n",
        "| | $\\alpha\\land \\bot$ $\\equiv$ $\\bot$ |\n",
        "| Condicional | $\\alpha$$\\to$$\\beta$ $\\equiv$ $\\lnot\\alpha$$\\lor$$\\beta$\n",
        "| | $\\lnot$$(\\alpha$$\\to$$\\beta)$ $\\equiv$ $\\alpha$ $\\land$ $\\lnot\\beta$\n",
        "| Bicondicional | $\\alpha↔\\beta$ $\\equiv$ $(\\alpha\\to\\beta)$ $\\land$ $(\\beta\\to\\alpha)$\n",
        "| | $\\lnot$ $(\\alpha↔\\beta)$ $\\equiv$ $(\\alpha\\lor\\beta)$ $\\land$ $(\\lnot\\alpha$$\\lor$$\\lnot\\beta)$\n",
        "\n",
        "</td></tr> </table>\n",
        "</center>\n",
        "\n",
        "✏ **Ejercicio.** Usar tablas de verdad para verificar las equivalencias de la tabla anterior. \n",
        "\n",
        "Un uso importante de las equivalencias es que nos permiten transformar las fórmulas de $\\mathcal{L}_{LP}$ en ciertas *formas normales* que permiten estudiar fácilmente cuestiones como la satisfacibilidad o validez de fórmulas proposicionales. Lo hacemos usando el siguiente resultado. \n",
        "\n",
        "\n",
        "**Teorema de intercambio**. Si $\\alpha\\equiv\\beta$, dada una fórmula $\\varphi$ que tiene $\\alpha$ como subfórmula, el resultado de sustituir  $\\alpha$ por $\\beta$ en $\\varphi$, que denotamos como $\\varphi(\\alpha/\\beta)$, es equivalente a $\\varphi$, \n",
        "$$\\alpha\\equiv\\beta \\quad⇒\\quad\\varphi \\equiv \\varphi(\\alpha/\\beta).$$\n",
        "En el caso de que $\\alpha$ sea la propia $\\varphi$, tenemos que $\\varphi(\\alpha/\\beta) = \\beta$. \n",
        "\n",
        "**Ejemplo.** La fórmula $p \\to ($<font color=\"red\">$q\\to r$</font>$)$ contiene <font color=\"red\">$q \\to r$</font> como subfórmula. Dado que <font color=\"red\">$q\\to r$</font> $\\equiv$ <font color=\"blue\">$\\lnot q\\lor r$</font> (una de las equivalencias del condicional), tenemos que \n",
        "<center>\n",
        "$p \\to ($<font color=\"red\">$q\\to r$</font>$)$ $\\equiv$ $p \\to ($<font color=\"blue\">$\\lnot q\\lor r$</font>$)$.\n",
        "</center>"
      ],
      "metadata": {
        "id": "-xI18MdNwGEB"
      }
    },
    {
      "cell_type": "code",
      "source": [
        "#@title ### Sustitución de subfórmulas usando el **teorema de intercambio**\n",
        "\n",
        "#@markdown Introducir una fórmula para aplicar el teorema de intercambio y dos listas **A** y\n",
        "#@markdown **B** de fórmulas separadas por comas. Cada fórmula de la lista **A** debe ser equivalente\n",
        "#@markdown a la que ocupa la misma posición en **B** para que se pueda aplicar el intercambio. \n",
        "\n",
        "#@markdown Probar con los valores de ejemplo, que se pueden modificar. Al pulsar sobre ▶\n",
        "#@markdown se irán aplicando las sustituciones una a una. \n",
        "\n",
        "#@markdown Usar \"¬\" para la negación, \"&\" para la conjunción, \"|\" para la \n",
        "#@markdown disyunción, \"->\" para el condicional y \"<->\" para el bicondicional.\n",
        "\n",
        "Formula = \"p -> \\xAC(q -> r)\" #@param [\"p -> ¬(q -> r)\"] {allow-input: true}\n",
        "listaA  = \"\\xAC(q -> r), p -> (q & \\xACr), \\xACp | (q & \\xACr)\" #@param [\"¬(q -> r), p -> (q & ¬r), ¬p | (q & ¬r)\"] {allow-input: true}\n",
        "listaB  = \"q & \\xACr, \\xACp | (q & \\xACr), (\\xACp | q) & (\\xACp | \\xACr)\" #@param [\"q & ¬r, ¬p | (q & ¬r), (¬p | q) & (¬p | ¬r)\"] {allow-input: true}\n",
        "\n",
        "try:\n",
        "  fml = nltk_to_sympy(parseFml(Formula))\n",
        "  list1 = [nltk_to_sympy(parseFml(f)) for f in listaA.split(',')]\n",
        "  list2 = [nltk_to_sympy(parseFml(f)) for f in listaB.split(',')]\n",
        "except Exception as err:\n",
        "  sys.tracebacklimit = -1\n",
        "  print(\"Ha habido un problema al procesar las fórmulas, revisa la sintaxis.\\n\")\n",
        "  raise SystemExit(err)\n",
        "\n",
        "if(len(list1) != len(list2)):\n",
        "  print(\"Las listas A y B deben tener el mismo número de fórmulas.\")\n",
        "else:\n",
        "  Math(\"\\\\text{Fórmula original: }\\\\quad \" + printLaTeX(fml))\n",
        "  theFml = fml\n",
        "  for i in range(len(list1)):\n",
        "    if(simplify_logic(Equivalent(list1[i], list2[i])) == True):\n",
        "      print(\"\")\n",
        "      Math(\"\\\\text{Sustitución \"+ str(i+1) +\": }\\\\quad \" + \n",
        "           printLaTeX(list1[i])+\"  \\\\equiv \"+printLaTeX(list2[i]))\n",
        "      theFml = theFml.subs({list1[i]: list2[i]})\n",
        "      Math(\"\\\\text{Resultado: }\\\\quad\\\\quad \"+\n",
        "           printLaTeX(theFml))\n",
        "    else:\n",
        "      print(\"\")\n",
        "      Math(\"\\\\text{Sustitución \"+ str(i+1) +\": }\\\\quad \" + \n",
        "           printLaTeX(list1[i])+\"  \\\\not\\\\equiv \"+printLaTeX(list2[i])\n",
        "           +\"\\\\quad \\\\text{(sustitución no aplicada)}\")"
      ],
      "metadata": {
        "colab": {
          "base_uri": "https://localhost:8080/",
          "height": 219
        },
        "id": "oO0nLlSROnQ6",
        "outputId": "c7a1de6a-2df1-4d46-de3f-610dbf669496",
        "cellView": "form"
      },
      "execution_count": 2,
      "outputs": [
        {
          "output_type": "execute_result",
          "data": {
            "text/plain": [
              "<IPython.core.display.Math object>"
            ],
            "text/latex": "$\\displaystyle \\text{Fórmula original: }\\quad p\\to \\lnot (q\\to r)$"
          },
          "metadata": {},
          "execution_count": 2
        },
        {
          "output_type": "stream",
          "name": "stdout",
          "text": [
            "\n"
          ]
        },
        {
          "output_type": "execute_result",
          "data": {
            "text/plain": [
              "<IPython.core.display.Math object>"
            ],
            "text/latex": "$\\displaystyle \\text{Sustitución 1: }\\quad \\lnot (q\\to r)  \\equiv q\\land \\lnot r$"
          },
          "metadata": {},
          "execution_count": 2
        },
        {
          "output_type": "execute_result",
          "data": {
            "text/plain": [
              "<IPython.core.display.Math object>"
            ],
            "text/latex": "$\\displaystyle \\text{Resultado: }\\quad\\quad p\\to q\\land \\lnot r$"
          },
          "metadata": {},
          "execution_count": 2
        },
        {
          "output_type": "stream",
          "name": "stdout",
          "text": [
            "\n"
          ]
        },
        {
          "output_type": "execute_result",
          "data": {
            "text/plain": [
              "<IPython.core.display.Math object>"
            ],
            "text/latex": "$\\displaystyle \\text{Sustitución 2: }\\quad p\\to q\\land \\lnot r  \\equiv \\lnot p\\lor (q\\land \\lnot r)$"
          },
          "metadata": {},
          "execution_count": 2
        },
        {
          "output_type": "execute_result",
          "data": {
            "text/plain": [
              "<IPython.core.display.Math object>"
            ],
            "text/latex": "$\\displaystyle \\text{Resultado: }\\quad\\quad \\lnot p\\lor (q\\land \\lnot r)$"
          },
          "metadata": {},
          "execution_count": 2
        },
        {
          "output_type": "stream",
          "name": "stdout",
          "text": [
            "\n"
          ]
        },
        {
          "output_type": "execute_result",
          "data": {
            "text/plain": [
              "<IPython.core.display.Math object>"
            ],
            "text/latex": "$\\displaystyle \\text{Sustitución 3: }\\quad \\lnot p\\lor (q\\land \\lnot r)  \\equiv (q\\lor \\lnot p)\\land (\\lnot p\\lor \\lnot r)$"
          },
          "metadata": {},
          "execution_count": 2
        },
        {
          "output_type": "execute_result",
          "data": {
            "text/plain": [
              "<IPython.core.display.Math object>"
            ],
            "text/latex": "$\\displaystyle \\text{Resultado: }\\quad\\quad (q\\lor \\lnot p)\\land (\\lnot p\\lor \\lnot r)$"
          },
          "metadata": {},
          "execution_count": 2
        }
      ]
    },
    {
      "cell_type": "markdown",
      "source": [
        "## Formas normales\n",
        "\n",
        "Usando el *teorema de intercambio* podemos transformar cualquier fórmulas de $\\mathcal{L}_{LP}$ en una fórmula equivalente con una estructura sintáctica normalizada. Son las formas normales **conjuntiva** y **disyuntiva**. \n",
        "\n",
        "**Definiciones**. \n",
        "- LLamamos *literales* a las variables proposicionales o sus negaciones. Las fórmulas $p$, $\\lnot q$, $\\lnot r$, $s$, etc., son ejemplos de literales. Llamamos *complementarios* a cada par de literales en que uno de los dos es la negación del otro. Así, $p$ y $\\lnot p$ son literales complementarios. En ocasiones usamos el símbolo $\\bar{\\lambda}$ para referirnos al literal complementario de $\\lambda$.\n",
        "- Una *conjunción elemental* es una conjunción de literales. Son conjunciones elementales $p \\land \\lnot q \\land r$, $s \\land \\lnot s$, etc. \n",
        "- Una *disyunción elemental* es una disyunción de literales. Son disyunciones elementales $\\lnot p \\lor q \\lor r$, $p \\lor \\lnot r \\lor \\lnot p$, etc. \n",
        "- Una fórmula está en *forma normal conjuntiva* (**FNC**) cuando se trata de una conjunción de disyunciones elementales. Su estructura es:\n",
        "$$\n",
        "(\\lambda^1_1 \\lor \\ldots \\lor \\lambda^1_{n_1}) \n",
        "\\land (\\lambda^2_1 \\lor \\ldots \\lor \\lambda^2_{n_2})\n",
        "\\land \\ldots\n",
        "\\land (\\lambda^m_1 \\lor \\ldots \\lor \\lambda^m_{n_m})\n",
        "$$\n",
        "- Una fórmula está en *forma normal disyuntiva* (**FND**) cuando se trata de una disyunción de conjunciones elementales. Su estructura es:\n",
        "$$\n",
        "(\\lambda^1_1 \\land \\ldots \\land \\lambda^1_{n_1}) \n",
        "\\lor (\\lambda^2_1 \\land \\ldots \\land \\lambda^2_{n_2})\n",
        "\\lor \\ldots\n",
        "\\lor (\\lambda^m_1 \\land \\ldots \\land \\lambda^m_{n_m})\n",
        "$$\n",
        "\n",
        "Las conjunciones y disyunciones elementales pueden tener varios literales, uno solo o incluso ser vacías. Una conjunción vacía es equivalente a $\\top$ y una disyunción vacía a $\\bot$. \n",
        "\n",
        "Podemos transformar cualquier fórmula a su forma normal conjuntiva o disyuntiva usando el teorema de intercambio a través de los siguientes pasos: \n",
        "1. Eliminamos los condicionales $\\to$ y bicondicionales $↔$ usando las equivalencias de *Condicional* y *Bicondicional* (tabla de arriba). Tras este paso, llegamos a una fórmula que solo tiene negaciones, conjunciones y disyunciones. \n",
        "2. Usando las equivalencias de *Doble negación* y *De Morgan* (simplificando cuando se pueda con *Tautología*, *Contradicción*, *Absorción* y *Idempotencia*), obtenemos la **forma normal negativa** en que las negaciones afectan solo a variables proposicionales. \n",
        "3. Aplicamos las propiedad distributiva: \n",
        "  - Para obtener la **forma normal conjuntiva (FNC)** aplicamos la equivalencia\n",
        "  $$\\alpha \\lor (\\beta\\land\\gamma) \\equiv (\\alpha\\lor\\beta) \\land (\\alpha\\lor\\gamma)$$\n",
        "  hasta que ninguna conjunción se encuentre bajo el alcance de ninguna disyunción. \n",
        "  - Para obtener la **forma normal disyuntiva (FND)** aplicamos la equivalencia\n",
        "  $$\\alpha \\land (\\beta\\lor\\gamma) \\equiv (\\alpha\\land\\beta) \\lor(\\alpha\\land\\gamma)$$\n",
        "  hasta que ninguna disyunción se encuentre bajo el alcance de ninguna conjunción. \n",
        "\n",
        "  En ambos casos simplificamos como en el paso 2. "
      ],
      "metadata": {
        "id": "6zWdMKUsQsxO"
      }
    },
    {
      "cell_type": "code",
      "source": [
        "#@title ### Obtención de **formas normales conjuntiva y disyuntiva**\n",
        "\n",
        "#@markdown Introducir una fórmula para aplicar el teorema de intercambio hasta llegar a sus formas\n",
        "#@markdown normales conjuntiva y disyuntiva. Se muestra el resultado de cada uno de los tres\n",
        "#@markdown pasos explicados arriba. \n",
        "\n",
        "#@markdown Probar con los valores de ejemplo, que se pueden modificar, y pulsar sobre ▶.\n",
        "#@markdown Debe tenerse en cuenta que usamos la librería `sympy` que puede realizar algunas\n",
        "#@markdown simplificaciones y reordenaciones de subfórmulas.\n",
        "\n",
        "#@markdown Usar \"¬\" para la negación, \"&\" para la conjunción, \"|\" para la \n",
        "#@markdown disyunción, \"->\" para el condicional y \"<->\" para el bicondicional.\n",
        "\n",
        "\n",
        "from IPython.core.interactiveshell import InteractiveShell\n",
        "InteractiveShell.ast_node_interactivity = 'all'\n",
        "\n",
        "\n",
        "Formula = \"p -> \\xAC(q \\u003C-> r)\" #@param [\"p -> ¬(q <-> r)\", \"(¬q & (p -> q)) -> ¬p\"] {allow-input: true}\n",
        "\n",
        "\n",
        "try:\n",
        "  fml = nltk_to_sympy(parseFml(Formula))\n",
        "except Exception as err:\n",
        "  sys.tracebacklimit = -1\n",
        "  print(\"Ha habido un problema al procesar las fórmulas, revisa la sintaxis.\\n\")\n",
        "  raise SystemExit(err)\n",
        "\n",
        "print(\"Fórmula original:\")\n",
        "Math(printLaTeX(fml))\n",
        "\n",
        "print(\"\\n1. Eliminación de condicionales y bicondicionales:\")\n",
        "eliminate_implications(fml)\n",
        "\n",
        "print(\"\\n2. Forma normal negativa:\")\n",
        "to_nnf(fml)\n",
        "\n",
        "print(\"\\n3a. Forma normal conjuntiva:\")\n",
        "to_cnf(fml)\n",
        "print(\"Simplificando trivialidades:\")\n",
        "simplify_logic(fml, form='cnf')\n",
        "\n",
        "print(\"\\n3b. Forma normal disyuntiva:\")\n",
        "to_dnf(fml)\n",
        "print(\"Simplificando trivialidades:\")\n",
        "simplify_logic(fml, form='dnf')\n"
      ],
      "metadata": {
        "colab": {
          "base_uri": "https://localhost:8080/",
          "height": 358
        },
        "id": "lzY-Zr9JW2Ic",
        "outputId": "8f6ae2fe-2e00-4d17-91e7-c181fff6f368",
        "cellView": "form"
      },
      "execution_count": 3,
      "outputs": [
        {
          "output_type": "stream",
          "name": "stdout",
          "text": [
            "Fórmula original:\n"
          ]
        },
        {
          "output_type": "execute_result",
          "data": {
            "text/plain": [
              "<IPython.core.display.Math object>"
            ],
            "text/latex": "$\\displaystyle p\\to \\lnot (q\\leftrightarrow r)$"
          },
          "metadata": {},
          "execution_count": 3
        },
        {
          "output_type": "stream",
          "name": "stdout",
          "text": [
            "\n",
            "1. Eliminación de condicionales y bicondicionales:\n"
          ]
        },
        {
          "output_type": "execute_result",
          "data": {
            "text/plain": [
              "((q ∨ r) ∧ (¬q ∨ ¬r)) ∨ ¬p"
            ],
            "image/png": "[encoded data removed]",
            "text/latex": "$\\displaystyle \\left(\\left(q \\vee r\\right) \\wedge \\left(\\neg q \\vee \\neg r\\right)\\right) \\vee \\neg p$"
          },
          "metadata": {},
          "execution_count": 3
        },
        {
          "output_type": "stream",
          "name": "stdout",
          "text": [
            "\n",
            "2. Forma normal negativa:\n"
          ]
        },
        {
          "output_type": "execute_result",
          "data": {
            "text/plain": [
              "((q ∨ r) ∧ (¬q ∨ ¬r)) ∨ ¬p"
            ],
            "image/png": "[encoded data removed]",
            "text/latex": "$\\displaystyle \\left(\\left(q \\vee r\\right) \\wedge \\left(\\neg q \\vee \\neg r\\right)\\right) \\vee \\neg p$"
          },
          "metadata": {},
          "execution_count": 3
        },
        {
          "output_type": "stream",
          "name": "stdout",
          "text": [
            "\n",
            "3a. Forma normal conjuntiva:\n"
          ]
        },
        {
          "output_type": "execute_result",
          "data": {
            "text/plain": [
              "(q ∨ r ∨ ¬p) ∧ (¬p ∨ ¬q ∨ ¬r)"
            ],
            "image/png": "[encoded data removed]",
            "text/latex": "$\\displaystyle \\left(q \\vee r \\vee \\neg p\\right) \\wedge \\left(\\neg p \\vee \\neg q \\vee \\neg r\\right)$"
          },
          "metadata": {},
          "execution_count": 3
        },
        {
          "output_type": "stream",
          "name": "stdout",
          "text": [
            "Simplificando trivialidades:\n"
          ]
        },
        {
          "output_type": "execute_result",
          "data": {
            "text/plain": [
              "(q ∨ r ∨ ¬p) ∧ (¬p ∨ ¬q ∨ ¬r)"
            ],
            "image/png": "[encoded data removed]",
            "text/latex": "$\\displaystyle \\left(q \\vee r \\vee \\neg p\\right) \\wedge \\left(\\neg p \\vee \\neg q \\vee \\neg r\\right)$"
          },
          "metadata": {},
          "execution_count": 3
        },
        {
          "output_type": "stream",
          "name": "stdout",
          "text": [
            "\n",
            "3b. Forma normal disyuntiva:\n"
          ]
        },
        {
          "output_type": "execute_result",
          "data": {
            "text/plain": [
              "(q ∧ ¬q) ∨ (q ∧ ¬r) ∨ (r ∧ ¬q) ∨ (r ∧ ¬r) ∨ ¬p"
            ],
            "image/png": "[encoded data removed]",
            "text/latex": "$\\displaystyle \\left(q \\wedge \\neg q\\right) \\vee \\left(q \\wedge \\neg r\\right) \\vee \\left(r \\wedge \\neg q\\right) \\vee \\left(r \\wedge \\neg r\\right) \\vee \\neg p$"
          },
          "metadata": {},
          "execution_count": 3
        },
        {
          "output_type": "stream",
          "name": "stdout",
          "text": [
            "Simplificando trivialidades:\n"
          ]
        },
        {
          "output_type": "execute_result",
          "data": {
            "text/plain": [
              "(q ∧ ¬r) ∨ (r ∧ ¬q) ∨ ¬p"
            ],
            "image/png": "[encoded data removed]",
            "text/latex": "$\\displaystyle \\left(q \\wedge \\neg r\\right) \\vee \\left(r \\wedge \\neg q\\right) \\vee \\neg p$"
          },
          "metadata": {},
          "execution_count": 3
        }
      ]
    },
    {
      "cell_type": "markdown",
      "source": [
        "## Introducción al algoritmo DPLL para comprobación de satisfacibilidad\n",
        "\n",
        "El [problema SAT](https://es.wikipedia.org/wiki/Problema_de_satisfacibilidad_booleana) consiste en determinar si una fórmula dada de la lógica proposicional es satisfacible. Es un conocido problema en ciencias de la computación por ser [NP-completo](https://es.wikipedia.org/wiki/NP-completo). \n",
        "\n",
        "> 👉 Otras importantes nociones semánticas como la validez, equivalencia o consecuencia lógica se pueden `reducir` a la satisfacibilidad, ¿cómo? \n",
        "\n",
        "Uno de los algoritmos más eficientes para resolver el problema SAT es el conocido como [DPLL](https://es.wikipedia.org/wiki/Algoritmo_DPLL), que debe su nombre a [M. Davis](https://es.wikipedia.org/wiki/Martin_Davis), [H. Putnam](https://es.wikipedia.org/wiki/Hilary_Putnam), [G. Logemann](https://en.wikipedia.org/wiki/George_Logemann) y [D.W. Loveland](https://en.wikipedia.org/wiki/Donald_W._Loveland). \n",
        "\n",
        "El algoritmo parte de una fórmula en forma normal conjuntiva y trata de obtener una interpretación que la satisfaga. Para que una interepretación $\\sigma$ satisfaga una fórmula en FNC debe satisfacer cada una de sus disyunciones elementales. Observemos que si consideramos un literal $\\lambda$ verdadero ($\\sigma(\\lambda) = 1$):\n",
        "- Cualquier disyunción elemental que contenga $\\lambda$ pasa a ser verdadera, por lo que ya hemos cumplido el objetivo de que quede satisfecha por $\\sigma$.\n",
        "- Cualquier disyunción elemental que contenga $\\bar{\\lambda}$ (literal complementario de $\\lambda$) solo será satisfecha por $\\sigma$ si alguno de los demás literales resulta verdadero, por lo que el objetivo de que tal disyunción elemental quede satisfecha por $\\sigma$ se puede reducir limitándolo al resto de literales.\n",
        "\n",
        "El algoritmo DPLL trata de construir $\\sigma$ siguiendo los siguientes criterios: \n",
        "- *Propagación unitaria*. Si una cláusula unitaria (tiene un solo literal al que aún no se ha asignado un valor de verdad), sólo puede satisfacerse haciendo que dicho literal sea verdadero. La propagación unitaria elimina todas las cláusulas que contienen un literal $\\lambda$ de una cláusula unitaria y descarta $\\bar{\\lambda}$ de todas las cláusulas que contienen dicho complemento. \n",
        "- *Eliminación de literales puros*. Si aparecen ocurrencias de un cierto literal $\\lambda$ en la fórmula pero no ocurre $\\bar{\\lambda}$, a $\\lambda$ se le llama *literal puro*. Se puede tomar $\\sigma(\\lambda)=1$ y todas las cláusulas que contengan $\\lambda$ pasan a ser verdaderas. \n",
        "\n",
        "A medida que se van asignando valores de verdad a literales, se van reduciendo tanto el número de cláusulas que quedan por satisfacerse como los literales de las cláusulas aún no satisfechas. Si todas las cláusulas son satisfechas, la fórmula resulta satisfacible, la interpretación $\\sigma$ que se ha construido la satisface. Si alguna cláusula no satisfecha se queda sin literales (recordemos que una disyunción vacía equivale a $\\bot$), la búsqueda falla y se usa *backtracking* para elegir otra interpretación. Si no quedan interpretaciones posibles que probar, la fórmula no es satisfacible. "
      ],
      "metadata": {
        "id": "ehxQRibghvhv"
      }
    },
    {
      "cell_type": "code",
      "source": [
        "#@title ### Ejecución del algoritmo DPLL\n",
        "\n",
        "#@markdown La fórmula introducida será convertida a FNC y se aplicará\n",
        "#@markdown el algoritmo DPLL con las asignaciones que se vayan realizando.\n",
        "#@markdown Presionar ▶ cada vez que se incluye una nueva asignación para\n",
        "#@markdown ejecutar un nuevo paso del algoritmo. \n",
        "\n",
        "#@markdown Las asignaciones se introducen como una lista separada por comas.\n",
        "#@markdown Por ejemplo, \"p: 1, q: 0\" indica que $p$ toma el valor $1$ y $q$\n",
        "#@markdown el valor $0$. Si la asignación introducida hace verdadera la\n",
        "#@markdown formula, el algoritmo devuelve `True` o `1`.\n",
        "\n",
        "#@markdown Cuando la interpretación que se va construyendo no satisface la\n",
        "#@markdown formula, se puede hacer *backtracking* modificando las \n",
        "#@markdown últimas decisiones. \n",
        "\n",
        "\n",
        "#@markdown Usar \"¬\" para la negación, \"&\" para la conjunción, \"|\" para la \n",
        "#@markdown disyunción, \"->\" para el condicional y \"<->\" para el bicondicional.\n",
        "from IPython.core.interactiveshell import InteractiveShell\n",
        "InteractiveShell.ast_node_interactivity = 'all'\n",
        "\n",
        "\n",
        "\n",
        "Formula = \"p -> \\xAC(q \\u003C-> r)\" #@param [\"p -> ¬(q <-> r)\", \"(¬q & (p -> q)) -> p\"] {allow-input: true}\n",
        "Interpretacion = \"p: 0, q: 1\" #@param [\"p: 0, q: 1\", \"p: 1, q: 0\"] {allow-input: true}\n",
        "\n",
        "try:\n",
        "  fml = nltk_to_sympy(parseFml(Formula))\n",
        "  if (Interpretacion.strip() == ''):\n",
        "    valuation = []\n",
        "  else:\n",
        "    valuation = [f.split(':') for f in Interpretacion.replace(' ','').split(',')]\n",
        "except Exception as err:\n",
        "  sys.tracebacklimit = -1\n",
        "  print(\"Ha habido un problema al procesar las fórmulas, revisa la sintaxis.\\n\")\n",
        "  raise SystemExit(err)\n",
        "\n",
        "print(\"Fórmula introducida:\")\n",
        "Math(printLaTeX(fml))\n",
        "\n",
        "print(\"\\nForma normal conjuntiva:\")\n",
        "fml1 = simplify_logic(fml, form='cnf')\n",
        "fml1\n",
        "\n",
        "for i in range(len(valuation)):\n",
        "  print(\"\")\n",
        "  Math(\"\\\\text{Asumimos }\\\\sigma(\"+\n",
        "       str(valuation[i][0])+\") = \"+str(valuation[i][1]))\n",
        "  fml1.subs(valuation[:i+1])\n"
      ],
      "metadata": {
        "colab": {
          "base_uri": "https://localhost:8080/",
          "height": 230
        },
        "id": "rrBDi_-U8cer",
        "outputId": "ddbcc8d0-4336-4322-c833-804dcf4a9655",
        "cellView": "form"
      },
      "execution_count": 4,
      "outputs": [
        {
          "output_type": "stream",
          "name": "stdout",
          "text": [
            "Fórmula introducida:\n"
          ]
        },
        {
          "output_type": "execute_result",
          "data": {
            "text/plain": [
              "<IPython.core.display.Math object>"
            ],
            "text/latex": "$\\displaystyle p\\to \\lnot (q\\leftrightarrow r)$"
          },
          "metadata": {},
          "execution_count": 4
        },
        {
          "output_type": "stream",
          "name": "stdout",
          "text": [
            "\n",
            "Forma normal conjuntiva:\n"
          ]
        },
        {
          "output_type": "execute_result",
          "data": {
            "text/plain": [
              "(q ∨ r ∨ ¬p) ∧ (¬p ∨ ¬q ∨ ¬r)"
            ],
            "image/png": "[encoded data removed]",
            "text/latex": "$\\displaystyle \\left(q \\vee r \\vee \\neg p\\right) \\wedge \\left(\\neg p \\vee \\neg q \\vee \\neg r\\right)$"
          },
          "metadata": {},
          "execution_count": 4
        },
        {
          "output_type": "stream",
          "name": "stdout",
          "text": [
            "\n"
          ]
        },
        {
          "output_type": "execute_result",
          "data": {
            "text/plain": [
              "<IPython.core.display.Math object>"
            ],
            "text/latex": "$\\displaystyle \\text{Asumimos }\\sigma(p) = 0$"
          },
          "metadata": {},
          "execution_count": 4
        },
        {
          "output_type": "execute_result",
          "data": {
            "text/plain": [
              "True"
            ],
            "text/latex": "$\\displaystyle \\text{True}$"
          },
          "metadata": {},
          "execution_count": 4
        },
        {
          "output_type": "stream",
          "name": "stdout",
          "text": [
            "\n"
          ]
        },
        {
          "output_type": "execute_result",
          "data": {
            "text/plain": [
              "<IPython.core.display.Math object>"
            ],
            "text/latex": "$\\displaystyle \\text{Asumimos }\\sigma(q) = 1$"
          },
          "metadata": {},
          "execution_count": 4
        },
        {
          "output_type": "execute_result",
          "data": {
            "text/plain": [
              "True"
            ],
            "text/latex": "$\\displaystyle \\text{True}$"
          },
          "metadata": {},
          "execution_count": 4
        }
      ]
    },
    {
      "cell_type": "markdown",
      "source": [
        "## Trabajando con `sympy`\n",
        "\n",
        "En el bloque de código de más abajo tenemos la posibilidad de trabajar directamente con `sympy` librería de `Python` que usamos en este cuaderno para manipular fórmulas de lógica proposicional. Se puede encontrar documentación de `sympy` en la [página del proyecto](https://docs.sympy.org/latest/modules/logic.html). "
      ],
      "metadata": {
        "id": "s9-KR94_jMCc"
      }
    },
    {
      "cell_type": "code",
      "source": [
        "# Escribe una fórmula:\n",
        "formula = \"(p -> q | r) & ¬q\"\n",
        "\n",
        "# Esto analiza sintácticamente la fórmula y la convierte \n",
        "# a una expresión de sympy:\n",
        "fml = nltk_to_sympy(parseFml(formula))\n",
        "\n",
        "# Imprime la fórmula: \n",
        "Math(printLaTeX(fml))\n",
        "# Comprueba si es satisfacible y, si lo es, obtiene una interpretación: \n",
        "print(\"\\nSatisfacibilidad:\")\n",
        "satisfiable(fml)"
      ],
      "metadata": {
        "colab": {
          "base_uri": "https://localhost:8080/",
          "height": 90
        },
        "id": "A69Y9JT0vdm9",
        "outputId": "ce4f9643-2252-47de-93f6-9486bf611f87"
      },
      "execution_count": 5,
      "outputs": [
        {
          "output_type": "execute_result",
          "data": {
            "text/plain": [
              "<IPython.core.display.Math object>"
            ],
            "text/latex": "$\\displaystyle \\lnot q\\land (p\\to (q\\lor r))$"
          },
          "metadata": {},
          "execution_count": 5
        },
        {
          "output_type": "stream",
          "name": "stdout",
          "text": [
            "\n",
            "Satisfacibilidad:\n"
          ]
        },
        {
          "output_type": "execute_result",
          "data": {
            "text/plain": [
              "{r: True, q: False, p: False}"
            ]
          },
          "metadata": {},
          "execution_count": 5
        }
      ]
    },
    {
      "cell_type": "markdown",
      "source": [
        "## Aplicación: resolución de sudokus mediante satisfacibilidad proposicional\n",
        "\n",
        "El problema de la satisfacibilidad proposicional es [objeto de estudio](http://www.satisfiability.org/) tanto por su interés teórico (problema NP-completo) como por sus numerosas aplicaciones. \n",
        "\n",
        "Computacionalmente, es un problema intratable, dado que la resolución de un problema con $n$ variables, puede requerir, en el caso peor, del orden de $2^n$ pasos de computación. \n",
        "\n",
        "A modo de ejemplo, vamos a utilizar satisfacibilidad proposicional para resolver sudokus de tamaño $4\\times 4$. Para orientarlo como un problema de satisfacibilidad proposicional, definimos, para cada una de las 16 celdas, cuatro variables proposicionales, que indican cada uno de los valores que puede tener la celda. Así `p142` significa que la celda correspondiente a la fila 1 columna 4 tiene un 2. El total de variables que necesitamos es $16\\times 4 = 64$, por lo que una tabla de verdad tendría $2^64$ filas, del orden de $10^{20}$ (más de 100 veces la edad del universo en segundos). Podemos hacernos idea del coste computacional del problema y la pertinencia de disponer de algoritmos eficientes para resolver el problema SAT. \n",
        "\n",
        "Representamos mediante fórmulas proposicionales la información necesaria para resolver un determinado sudoku, lo que incluye:\n",
        "- Información general propia del *problema sudoku*, como que un mismo número no puede repetirse en una misma fila, columna o región, o que cada celda tiene un valor entre 1 y 4. Una fórmula como $p142 \\to \\lnot p132$ (que escribiremos como $\\lnot p142 \\lor \\lnot p132$, para trabajar en FNC) indica que si hay un 2 en la fila 1 (columna 4) no puede haber otro 2 en la fila 1 (columna 3). Será necesario un gran número de fórmulas de este tipo. \n",
        "- Información específica del sudoku que estamos resolviendo. Serán las fórmulas que definen las casillas que aparecen rellenas en el enunciado del problema. \n",
        "\n",
        "Ofrecemos el código más abajo. Se puede introducir un problema modificando la cadena que se asigna a la variable `problema`. Luego pulsar ▶ para resolverlo, aparecerá impresa la tabla completa. \n",
        "\n",
        "En los comentarios del código se puede ver cómo se van construyendo las fórmulas. El paso principal es el uso de `satisfiable` para buscar la interpretación (sudoku resuelto) que satisface la fórmula que contiene todas las restricciones del problema. En ciertos momentos, previamente, se utiliza `simplify_logic` para simplificar la fórmula. \n",
        "\n",
        "El programa no es especialmente eficiente sobre Google Colab. Existen [otras implementaciones](https://github.com/liloheinrich/Sudoku) en `Python` mucho más eficientes. "
      ],
      "metadata": {
        "id": "6OoK6O0h4oEp"
      }
    },
    {
      "cell_type": "code",
      "source": [
        "# Definimos el problema rellenando los datos en la tabla del sudoku\n",
        "problema = \"\"\"\n",
        "+---+---+---+---+\n",
        "|   |   |   | 1 |\n",
        "+---+---+---+---+\n",
        "| 1 | 2 |   |   |\n",
        "+---+---+---+---+\n",
        "|   | 4 |   |   |\n",
        "+---+---+---+---+\n",
        "|   | 1 | 3 |   |\n",
        "+---+---+---+---+\n",
        "\"\"\"\n",
        "\n",
        "# Lista de números que ocupan cada posición de la tabla\n",
        "numbers = problema.replace('+','').replace('-','').replace('\\n\\n|','').replace('|\\n\\n','').replace(' ','').split('|')\n",
        "\n",
        "\n",
        "datos = []  # Aquí vamos a ir guardando los literales que definen el problema\n",
        "vals = [1,2,3,4]\n",
        "for r in vals:\n",
        "  for c in vals:\n",
        "    dato = numbers[4*(r-1)+c-1]\n",
        "    if(dato != ''):   # Si en la fila 'r' columna 'c' hay un dato\n",
        "      datos.append('p'+str(r)+str(c)+dato) # Lo añadimos\n",
        "\n",
        "# Función para definir una variable proposicional que indica que en la fila\n",
        "# 'r' columna 'c' está el número 'n'\n",
        "def prop(r,c,n):\n",
        "  return Symbol(\"p\"+str(r)+str(c)+str(n))\n",
        "\n",
        "# Esta es la fórmula que vamos a ir construyendo con los datos del sudoku\n",
        "# y las restricciones generales.\n",
        "listaFml = True\n",
        "\n",
        "# Comenzamos añadiendo los datos de entrada del problema específico\n",
        "for d in datos:\n",
        "  listaFml = Symbol(d) & listaFml\n",
        "\n",
        "# RESTRICCIONES DEL SUDOKU DE 4x4:\n",
        "\n",
        "# Cada celda contiene un solo valor entre 1 y 4:\n",
        "for row in vals:\n",
        "  for col in vals:\n",
        "    options = False # Para construir los 4 posibles valores\n",
        "    for n in vals:\n",
        "      options = options | prop(row,col,n)\n",
        "    # Lo añadimos a la lista de fórmulas y simplificamos:\n",
        "    listaFml = simplify_logic(options & listaFml, form='cnf') \n",
        "# Un número no puede estar repetido en la misma fila o columna\n",
        "for row in vals:\n",
        "  for col in vals:\n",
        "    for n in vals:\n",
        "      # Caso de que 'n' esté en (row, col):\n",
        "      pr = prop(row,col,n)\n",
        "      for val2 in vals:\n",
        "        if row < val2:\n",
        "          # Lo puede estar en otra posición (posterior) de la misma columna:\n",
        "          listaFml = (~pr | ~prop(val2,col,n)) & listaFml\n",
        "        if col < val2:\n",
        "          # Ni de la misma columna:           \n",
        "          listaFml = (~pr | ~prop(row,val2,n)) & listaFml\n",
        "    # Vamos simplificando la (gran) fórmula que se va construyendo: \n",
        "    listaFml = simplify_logic(listaFml, form='cnf')\n",
        "# En un mismo cuadro de 2x2 no puede ocurrir ningún número repetido: \n",
        "for sR in [0,2]:    # Desplazamiento de fila (para recorrer los 4 cuadros 2x2)\n",
        "  for sC in [0,2]:  # Desplazamiento de columna\n",
        "    valsR = [1+sR,2+sR] # Posiciones de las filas en el cuadro actual\n",
        "    valsC = [1+sC,2+sC] # Posiciones de las columnas en el cuadro actual\n",
        "    for row in valsR:\n",
        "      for col in valsC:\n",
        "        for n in vals:\n",
        "          # Si estuviera el número 'n' en la posición (row, col):\n",
        "          pr = prop(row,col,n)\n",
        "          for row2 in valsR:\n",
        "            for col2 in valsC:\n",
        "              # Para cada celda del cuadro 2x2 que no comparta fila ni columna\n",
        "              # (pues ya estaban en restricciones anteriores):\n",
        "              if (row != row2) & (col < col2):\n",
        "                # El número 'n' no puede estar en dicha celda: \n",
        "                listaFml = (~pr | ~prop(row2, col2, n)) & listaFml\n",
        "    listaFml = simplify_logic(listaFml, form='cnf')\n",
        "\n",
        "# Obtenemos la interpretación que satisface la fórmula que representa el sudoku:\n",
        "solution = satisfiable(listaFml)\n",
        "\n",
        "# Tomamos solo las variables verdaderas (número que está en cada celda):\n",
        "verdaderas = [str(clave) for clave, valor in solution.items() if valor]\n",
        "# Ordenamos (orden lexicográfico, para que siga el orden de las filas\n",
        "# y columnas):\n",
        "verdaderas.sort()\n",
        "\n",
        "print(\"\\n¡¡¡Sudoku resuelto!!!\\n\\n\")\n",
        "\n",
        "# Imprimimos la solución del sudoku:\n",
        "print(\"+---+---+---+---+\")\n",
        "for i in range(4):\n",
        "  for j in range(4):\n",
        "    print('| '+verdaderas[i*4+j][-1], end=' ')\n",
        "  print(\"|\")\n",
        "  print(\"+---+---+---+---+\")\n"
      ],
      "metadata": {
        "id": "wTS7OJrldzJR",
        "colab": {
          "base_uri": "https://localhost:8080/"
        },
        "outputId": "7642e69d-b9e7-492b-a731-7a73bcab9d4e"
      },
      "execution_count": 15,
      "outputs": [
        {
          "output_type": "stream",
          "name": "stdout",
          "text": [
            "\n",
            "¡¡¡Sudoku resuelto!!!\n",
            "\n",
            "\n",
            "+---+---+---+---+\n",
            "| 4 | 2 | 1 | 3 |\n",
            "+---+---+---+---+\n",
            "| 3 | 1 | 4 | 2 |\n",
            "+---+---+---+---+\n",
            "| 2 | 4 | 3 | 1 |\n",
            "+---+---+---+---+\n",
            "| 1 | 3 | 2 | 4 |\n",
            "+---+---+---+---+\n"
          ]
        }
      ]
    }
  ],
  "metadata": {
    "colab": {
      "provenance": [],
      "authorship_tag": "ABX9TyPUmnWYtMqGujIXEbwkdgnv",
      "include_colab_link": true
    },
    "kernelspec": {
      "display_name": "Python 3",
      "name": "python3"
    },
    "language_info": {
      "name": "python"
    }
  },
  "nbformat": 4,
  "nbformat_minor": 0
}